{
 "cells": [
  {
   "cell_type": "markdown",
   "metadata": {},
   "source": [
    "**TASK 4**\n",
    "\n",
    "**Now that we have learnt the basics of Python programming language, let's get our hands dirty and create a new python program. Write a Python Program to Illustrate Different Set Operations. Here we have to define two set variables and we have to perform different set operations: union, intersection, difference and symmetric difference.**\n",
    "\n",
    "**Your Output should look something like this**\n",
    "\n",
    "**Union of E and N is {0, 1, 2, 3, 4, 5, 6, 8} Intersection of E and N is {2, 4} Difference of E and N is {8, 0, 6} Symmetric difference of E and N is {0, 1, 3, 5, 6, 8}**\n",
    "\n",
    "**Submit your GitHub link for grade calculation below**"
   ]
  },
  {
   "cell_type": "markdown",
   "metadata": {},
   "source": [
    "#MYUNDERSTANDING\n",
    "\n",
    "E-N = 8,0,6\n",
    "E,N = 0,1,2,3,4,5,6,8, \n",
    "E&N = 2,4\n",
    "\n",
    "SO,\n",
    "    E= 80624\n",
    "    N=12345"
   ]
  },
  {
   "cell_type": "code",
   "execution_count": 1,
   "metadata": {},
   "outputs": [
    {
     "name": "stdout",
     "output_type": "stream",
     "text": [
      "Union of E and N is {0, 1, 2, 3, 4, 5, 6, 8}\n",
      "Intersection of E and N is {2, 4}\n",
      "Difference of E and N is {0, 8, 6}\n",
      "Symmetric difference of E and N is {0, 1, 3, 5, 6, 8}\n"
     ]
    }
   ],
   "source": [
    "E = {0, 2, 4, 6, 8};\n",
    "N = {1, 2, 3, 4, 5};\n",
    " \n",
    "print(\"Union of E and N is\",E | N)\n",
    "\n",
    "print(\"Intersection of E and N is\",E & N)\n",
    "\n",
    "print(\"Difference of E and N is\",E - N)\n",
    " \n",
    "print(\"Symmetric difference of E and N is\",E ^ N)\n",
    " \n",
    " "
   ]
  },
  {
   "cell_type": "code",
   "execution_count": null,
   "metadata": {},
   "outputs": [],
   "source": []
  }
 ],
 "metadata": {
  "kernelspec": {
   "display_name": "Python 3",
   "language": "python",
   "name": "python3"
  },
  "language_info": {
   "codemirror_mode": {
    "name": "ipython",
    "version": 3
   },
   "file_extension": ".py",
   "mimetype": "text/x-python",
   "name": "python",
   "nbconvert_exporter": "python",
   "pygments_lexer": "ipython3",
   "version": "3.8.5"
  }
 },
 "nbformat": 4,
 "nbformat_minor": 4
}